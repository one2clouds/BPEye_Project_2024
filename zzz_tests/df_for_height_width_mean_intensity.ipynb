{
 "cells": [
  {
   "cell_type": "code",
   "execution_count": 3,
   "metadata": {},
   "outputs": [],
   "source": [
    "import torch.nn as nn \n",
    "import torchvision\n",
    "import torch \n",
    "from glob import glob\n",
    "from tqdm import tqdm\n",
    "import pandas as pd\n",
    "import matplotlib.pyplot as plt\n",
    "import seaborn as sns"
   ]
  },
  {
   "cell_type": "code",
   "execution_count": null,
   "metadata": {},
   "outputs": [
    {
     "name": "stderr",
     "output_type": "stream",
     "text": [
      "100%|██████████| 20/20 [00:03<00:00,  5.23it/s]\n"
     ]
    }
   ],
   "source": [
    "images = sorted(glob('/mnt/Enterprise2/shirshak/GLAUCOMA_DATASET_EYEPACS_AIROGS_ZENODO/preprocessed_overall_data/*/*'))\n",
    "df = pd.DataFrame(columns=[\"Image Name\", \"height\", \"width\", \"label\", \"Mean Intensity Value\", \"Mean Intensity Value R,G,B\"])\n",
    "\n",
    "for index, image in enumerate(tqdm(images[:20])):\n",
    "    img_name = image.split(\"/\")[-1]\n",
    "    height = torchvision.io.read_image(image).shape[1]\n",
    "    width = torchvision.io.read_image(image).shape[2]\n",
    "    label = image.split(\"/\")[6]\n",
    "    mean_intensity = torchvision.io.read_image(image).float().mean()\n",
    "    mean_intensity_per_channel = torchvision.io.read_image(image).float().mean(dim=[1, 2])\n",
    "    df.loc[index] = {\n",
    "        \"Image Name\": img_name,\n",
    "        \"height\": height,\n",
    "        \"width\": width, \n",
    "        \"label\": label, \n",
    "        \"Mean Intensity Value\": mean_intensity.item(),\n",
    "        \"Mean Intensity Value R,G,B\": mean_intensity_per_channel.tolist()\n",
    "        }\n",
    "# df.to_csv(\"/home/shirshak/BPEye_Project_2024/zzz_tests/plot_image_sizes_distribution.csv\", index=False)"
   ]
  },
  {
   "cell_type": "code",
   "execution_count": 9,
   "metadata": {},
   "outputs": [
    {
     "data": {
      "text/plain": [
       "(2044, 2467)"
      ]
     },
     "execution_count": 9,
     "metadata": {},
     "output_type": "execute_result"
    }
   ],
   "source": [
    "df['height'].min(), df['height'].max()"
   ]
  },
  {
   "cell_type": "code",
   "execution_count": null,
   "metadata": {},
   "outputs": [],
   "source": []
  },
  {
   "cell_type": "code",
   "execution_count": null,
   "metadata": {},
   "outputs": [],
   "source": []
  }
 ],
 "metadata": {
  "kernelspec": {
   "display_name": "BPEye_Project_2024",
   "language": "python",
   "name": "python3"
  },
  "language_info": {
   "codemirror_mode": {
    "name": "ipython",
    "version": 3
   },
   "file_extension": ".py",
   "mimetype": "text/x-python",
   "name": "python",
   "nbconvert_exporter": "python",
   "pygments_lexer": "ipython3",
   "version": "3.9.21"
  }
 },
 "nbformat": 4,
 "nbformat_minor": 2
}
