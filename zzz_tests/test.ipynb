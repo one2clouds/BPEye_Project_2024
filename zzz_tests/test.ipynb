{
 "cells": [
  {
   "cell_type": "code",
   "execution_count": 1,
   "metadata": {},
   "outputs": [],
   "source": [
    "import torch.nn as nn \n",
    "import torchvision\n",
    "import torch \n",
    "from torch.utils.data import Dataset, DataLoader\n",
    "from torchvision.transforms import transforms\n",
    "import pathlib \n",
    "from tqdm import tqdm \n",
    "import torch.optim as optim\n",
    "from torchvision.models import ResNet50_Weights\n",
    "from sklearn.metrics import accuracy_score, precision_score, recall_score, f1_score\n",
    "from glob import glob \n",
    "import os "
   ]
  },
  {
   "cell_type": "code",
   "execution_count": 2,
   "metadata": {},
   "outputs": [],
   "source": [
    "class Res_Net(nn.Module):\n",
    "    def __init__(self,classes):\n",
    "        super().__init__()\n",
    "        self.model = torchvision.models.resnet50(weights=ResNet50_Weights.DEFAULT)\n",
    "        self.model.fc = nn.Linear(self.model.fc.in_features, len(classes))\n",
    "\n",
    "    def forward(self, x:torch.Tensor) -> torch.Tensor:\n",
    "        return self.model(x)"
   ]
  },
  {
   "cell_type": "code",
   "execution_count": 3,
   "metadata": {},
   "outputs": [],
   "source": [
    "class BP_Eye_Dataset(Dataset):\n",
    "    def __init__(self, image_paths, classes, my_transforms):\n",
    "        self.image_paths = image_paths\n",
    "        self.classes = classes\n",
    "        self.my_transforms = my_transforms\n",
    "\n",
    "        self.idx_to_class = {i:j for i, j in enumerate(self.classes)}\n",
    "        self.class_to_idx = {value:key for key,value in self.idx_to_class.items()}\n",
    "        \n",
    "    def __len__(self):\n",
    "        return len(self.image_paths)\n",
    "\n",
    "    def __getitem__(self, idx):\n",
    "        image_filepath = self.image_paths[idx] \n",
    "        label = image_filepath.split('/')[-2]\n",
    "\n",
    "        image = torchvision.io.read_image(image_filepath)\n",
    "        \n",
    "        image = self.my_transforms(image)\n",
    "        label_final = self.class_to_idx[label]\n",
    "\n",
    "        return image, label_final"
   ]
  },
  {
   "cell_type": "code",
   "execution_count": 4,
   "metadata": {},
   "outputs": [],
   "source": [
    "num_epochs = 1\n",
    "device=torch.device('cuda' if torch.cuda.is_available() else 'cpu')\n",
    "train_path = '/mnt/Enterprise2/shirshak/Glaucoma_Dataset_eyepacs_airogs_lightv2/eyepac-light-v2-512-jpg/train/'\n",
    "val_path = '/mnt/Enterprise2/shirshak/Glaucoma_Dataset_eyepacs_airogs_lightv2/eyepac-light-v2-512-jpg/validation/'\n",
    "test_path = '/mnt/Enterprise2/shirshak/Glaucoma_Dataset_eyepacs_airogs_lightv2/eyepac-light-v2-512-jpg/test/'"
   ]
  },
  {
   "cell_type": "code",
   "execution_count": 5,
   "metadata": {},
   "outputs": [],
   "source": [
    "train_data_paths = glob(train_path + \"*/*.jpg\")\n",
    "val_data_paths = glob(val_path + \"*/*.jpg\")\n",
    "test_data_paths = glob(test_path + \"*/*.jpg\")"
   ]
  },
  {
   "cell_type": "code",
   "execution_count": 6,
   "metadata": {},
   "outputs": [],
   "source": [
    "my_transforms = transforms.Compose([\n",
    "    transforms.ToPILImage(), \n",
    "    transforms.ToTensor(),\n",
    "    transforms.RandomHorizontalFlip(),\n",
    "    transforms.Normalize(mean=[0.5, 0.5, 0.5], std=[0.5, 0.5, 0.5]),\n",
    "    transforms.Resize((256,256))\n",
    "])"
   ]
  },
  {
   "cell_type": "code",
   "execution_count": 7,
   "metadata": {},
   "outputs": [],
   "source": [
    "train_dataset = BP_Eye_Dataset(train_data_paths, classes = [\"NRG\", \"RG\"], my_transforms=my_transforms)"
   ]
  },
  {
   "cell_type": "code",
   "execution_count": 10,
   "metadata": {},
   "outputs": [
    {
     "ename": "AttributeError",
     "evalue": "'list' object has no attribute 'split'",
     "output_type": "error",
     "traceback": [
      "\u001b[0;31m---------------------------------------------------------------------------\u001b[0m",
      "\u001b[0;31mAttributeError\u001b[0m                            Traceback (most recent call last)",
      "Cell \u001b[0;32mIn[10], line 1\u001b[0m\n\u001b[0;32m----> 1\u001b[0m \u001b[43mtrain_dataset\u001b[49m\u001b[43m[\u001b[49m\u001b[43m:\u001b[49m\u001b[38;5;241;43m20\u001b[39;49m\u001b[43m]\u001b[49m\n",
      "Cell \u001b[0;32mIn[3], line 15\u001b[0m, in \u001b[0;36mBP_Eye_Dataset.__getitem__\u001b[0;34m(self, idx)\u001b[0m\n\u001b[1;32m     13\u001b[0m \u001b[38;5;28;01mdef\u001b[39;00m \u001b[38;5;21m__getitem__\u001b[39m(\u001b[38;5;28mself\u001b[39m, idx):\n\u001b[1;32m     14\u001b[0m     image_filepath \u001b[38;5;241m=\u001b[39m \u001b[38;5;28mself\u001b[39m\u001b[38;5;241m.\u001b[39mimage_paths[idx] \n\u001b[0;32m---> 15\u001b[0m     label \u001b[38;5;241m=\u001b[39m \u001b[43mimage_filepath\u001b[49m\u001b[38;5;241;43m.\u001b[39;49m\u001b[43msplit\u001b[49m(\u001b[38;5;124m'\u001b[39m\u001b[38;5;124m/\u001b[39m\u001b[38;5;124m'\u001b[39m)[\u001b[38;5;241m-\u001b[39m\u001b[38;5;241m2\u001b[39m]\n\u001b[1;32m     17\u001b[0m     image \u001b[38;5;241m=\u001b[39m torchvision\u001b[38;5;241m.\u001b[39mio\u001b[38;5;241m.\u001b[39mread_image(image_filepath)\n\u001b[1;32m     19\u001b[0m     image \u001b[38;5;241m=\u001b[39m \u001b[38;5;28mself\u001b[39m\u001b[38;5;241m.\u001b[39mmy_transforms(image)\n",
      "\u001b[0;31mAttributeError\u001b[0m: 'list' object has no attribute 'split'"
     ]
    }
   ],
   "source": [
    "train_dataset[:20]"
   ]
  },
  {
   "cell_type": "code",
   "execution_count": null,
   "metadata": {},
   "outputs": [],
   "source": []
  },
  {
   "cell_type": "code",
   "execution_count": 9,
   "metadata": {},
   "outputs": [
    {
     "ename": "NameError",
     "evalue": "name 'my_transform' is not defined",
     "output_type": "error",
     "traceback": [
      "\u001b[0;31m---------------------------------------------------------------------------\u001b[0m",
      "\u001b[0;31mNameError\u001b[0m                                 Traceback (most recent call last)",
      "Cell \u001b[0;32mIn[9], line 1\u001b[0m\n\u001b[0;32m----> 1\u001b[0m train_dataset \u001b[38;5;241m=\u001b[39m torchvision\u001b[38;5;241m.\u001b[39mdatasets\u001b[38;5;241m.\u001b[39mImageFolder(train_path, transform\u001b[38;5;241m=\u001b[39m\u001b[43mmy_transform\u001b[49m)\n\u001b[1;32m      2\u001b[0m val_dataset \u001b[38;5;241m=\u001b[39m torchvision\u001b[38;5;241m.\u001b[39mdatasets\u001b[38;5;241m.\u001b[39mImageFolder(val_path, transform\u001b[38;5;241m=\u001b[39mmy_transform)\n\u001b[1;32m      3\u001b[0m test_dataset \u001b[38;5;241m=\u001b[39m torchvision\u001b[38;5;241m.\u001b[39mdatasets\u001b[38;5;241m.\u001b[39mImageFolder(test_path, transform\u001b[38;5;241m=\u001b[39mmy_transform)\n",
      "\u001b[0;31mNameError\u001b[0m: name 'my_transform' is not defined"
     ]
    }
   ],
   "source": [
    "train_dataset = torchvision.datasets.ImageFolder(train_path, transform=my_transform)\n",
    "val_dataset = torchvision.datasets.ImageFolder(val_path, transform=my_transform)\n",
    "test_dataset = torchvision.datasets.ImageFolder(test_path, transform=my_transform)\n",
    "\n",
    "train_loader = DataLoader(train_dataset, batch_size=32, shuffle=True)\n",
    "val_loader = DataLoader(val_dataset, batch_size=32, shuffle=True)\n",
    "test_loader = DataLoader(test_dataset, batch_size=32, shuffle=True)\n",
    "\n",
    "root=pathlib.Path(train_path)\n",
    "classes=sorted([j.name.split('/')[-1] for j in root.iterdir()])"
   ]
  },
  {
   "cell_type": "code",
   "execution_count": null,
   "metadata": {},
   "outputs": [],
   "source": [
    "model = Res_Net(classes=classes)\n",
    "model = model.to(device)\n",
    "loss_func = nn.CrossEntropyLoss()\n",
    "optimizer = optim.Adam(model.parameters(), lr=1e-4)"
   ]
  },
  {
   "cell_type": "code",
   "execution_count": null,
   "metadata": {},
   "outputs": [],
   "source": [
    "def get_needed_metrics(labels, predicted): \n",
    "    assert isinstance(labels, list)\n",
    "    assert isinstance(predicted, list)\n",
    "    \n",
    "    accuracy = accuracy_score(labels, predicted)\n",
    "    precision = precision_score(labels, predicted, zero_division=0.0)\n",
    "    recall = recall_score(labels, predicted, zero_division=0.0)\n",
    "    f1 = f1_score(labels, predicted, zero_division=0.0)\n",
    "    \n",
    "    return accuracy, precision, recall, f1"
   ]
  },
  {
   "cell_type": "code",
   "execution_count": null,
   "metadata": {},
   "outputs": [],
   "source": [
    "for epoch in range(num_epochs):\n",
    "        model.train()\n",
    "        acc_train_epoch, precision_train_epoch, recall_train_epoch, f1_train_epoch  = [], [], [], []\n",
    "        for inputs, labels in tqdm(train_loader, desc=f'Training Epoch {epoch}/{num_epochs}', unit='batch'):\n",
    "            inputs, labels = inputs.to(device), labels.to(device)\n",
    "            optimizer.zero_grad()\n",
    "            outputs = nn.Sigmoid()(model(inputs))     \n",
    "            \n",
    "            train_loss = loss_func(outputs, labels)\n",
    "            train_loss.backward()\n",
    "            optimizer.step()\n",
    "        \n",
    "            _, predicted_train = torch.max(outputs, 1)\n",
    "            \n",
    "\n",
    "            acc_batch_train, precision_batch_train, recall_batch_train, f1_batch_train = get_needed_metrics(labels.cpu().detach().tolist(), predicted_train.cpu().detach().tolist())\n",
    "        \n",
    "            acc_train_epoch.append(acc_batch_train)\n",
    "            precision_train_epoch.append(precision_batch_train)\n",
    "            recall_train_epoch.append(recall_batch_train)\n",
    "            f1_train_epoch.append(f1_batch_train)\n",
    "        \n",
    "        # Validating the model\n",
    "        model.eval()\n",
    "        acc_val_epoch, precision_val_epoch, recall_val_epoch, f1_val_epoch  = [], [], [], []\n",
    "        with torch.no_grad():\n",
    "            for inputs, labels in tqdm(val_loader, desc=f'Testing {epoch}/{num_epochs}', unit='batch'):\n",
    "                inputs, labels = inputs.to(device), labels.to(device)\n",
    "                outputs = nn.Sigmoid()(model(inputs))     \n",
    "                val_loss = loss_func(outputs, labels)\n",
    "                _, predicted_val = torch.max(outputs, 1)\n",
    "\n",
    "                acc_batch_val, precision_batch_val, recall_batch_val, f1_batch_val = get_needed_metrics(labels.cpu().detach().tolist(), predicted_val.cpu().detach().tolist())\n",
    "                \n",
    "                acc_val_epoch.append(acc_batch_val)\n",
    "                precision_val_epoch.append(precision_batch_val)\n",
    "                recall_val_epoch.append(recall_batch_val)\n",
    "                f1_val_epoch.append(f1_batch_val)"
   ]
  },
  {
   "cell_type": "code",
   "execution_count": null,
   "metadata": {},
   "outputs": [],
   "source": [
    "checkpoint = {\n",
    "    'epoch': epoch,\n",
    "    'model_state_dict': model.state_dict(),\n",
    "    'optimizer_state_dict': optimizer.state_dict(),\n",
    "    'loss': train_loss,\n",
    "}\n",
    "torch.save(checkpoint, '/home/shirshak/BPEye_Project_2024/zzz_tests/checkpoint.pth')"
   ]
  },
  {
   "cell_type": "code",
   "execution_count": null,
   "metadata": {},
   "outputs": [],
   "source": []
  },
  {
   "cell_type": "code",
   "execution_count": null,
   "metadata": {},
   "outputs": [],
   "source": []
  },
  {
   "cell_type": "markdown",
   "metadata": {},
   "source": [
    "# FOR TESTING PURPOSES ONLY"
   ]
  },
  {
   "cell_type": "code",
   "execution_count": null,
   "metadata": {},
   "outputs": [],
   "source": [
    "import torch.nn as nn \n",
    "import torchvision\n",
    "import torch \n",
    "from torch.utils.data import Dataset, DataLoader\n",
    "from torchvision.transforms import transforms\n",
    "import pathlib \n",
    "from tqdm import tqdm \n",
    "import torch.optim as optim\n",
    "from torchvision.models import ResNet50_Weights\n",
    "from sklearn.metrics import accuracy_score, precision_score, recall_score, f1_score"
   ]
  },
  {
   "cell_type": "code",
   "execution_count": null,
   "metadata": {},
   "outputs": [],
   "source": [
    "test_path = '/mnt/Enterprise2/shirshak/Glaucoma_Dataset_eyepacs_airogs_lightv2/eyepac-light-v2-512-jpg/test/'\n",
    "device=torch.device('cuda' if torch.cuda.is_available() else 'cpu')\n",
    "\n",
    "\n",
    "transform = transforms.Compose([\n",
    "        transforms.RandomHorizontalFlip(),\n",
    "        transforms.ToTensor(), # convert 0-255 to 0-1 and from np to tensors\n",
    "        transforms.Normalize(mean=[0.5, 0.5, 0.5], std=[0.5, 0.5, 0.5])])"
   ]
  },
  {
   "cell_type": "code",
   "execution_count": null,
   "metadata": {},
   "outputs": [],
   "source": [
    "class Res_Net(nn.Module):\n",
    "    def __init__(self,classes):\n",
    "        super().__init__()\n",
    "        self.model = torchvision.models.resnet50(weights=ResNet50_Weights.DEFAULT)\n",
    "        self.model.fc = nn.Linear(self.model.fc.in_features, len(classes))\n",
    "    \n",
    "    def forward(self, x:torch.Tensor) -> torch.Tensor:\n",
    "        # print(self.model.fc.in_features)\n",
    "        return self.model(x)"
   ]
  },
  {
   "cell_type": "code",
   "execution_count": null,
   "metadata": {},
   "outputs": [],
   "source": [
    "def get_needed_metrics(labels, predicted): \n",
    "    assert isinstance(labels, list)\n",
    "    assert isinstance(predicted, list)\n",
    "    \n",
    "    accuracy = accuracy_score(labels, predicted)\n",
    "    precision = precision_score(labels, predicted, zero_division=0.0)\n",
    "    recall = recall_score(labels, predicted, zero_division=0.0)\n",
    "    f1 = f1_score(labels, predicted, zero_division=0.0)\n",
    "    \n",
    "    return accuracy, precision, recall, f1"
   ]
  },
  {
   "cell_type": "code",
   "execution_count": null,
   "metadata": {},
   "outputs": [],
   "source": [
    "root=pathlib.Path(test_path)\n",
    "classes=sorted([j.name.split('/')[-1] for j in root.iterdir()])"
   ]
  },
  {
   "cell_type": "code",
   "execution_count": null,
   "metadata": {},
   "outputs": [],
   "source": [
    "test_dataset = torchvision.datasets.ImageFolder(test_path, transform=transform)\n",
    "test_loader = DataLoader(test_dataset, batch_size=4, shuffle=True)"
   ]
  },
  {
   "cell_type": "code",
   "execution_count": null,
   "metadata": {},
   "outputs": [],
   "source": [
    "loaded_model = Res_Net(classes=classes)\n",
    "checkpoint = torch.load('/home/shirshak/BPEye_Project_2024/zzz_tests/checkpoint.pth')\n",
    "loaded_model = loaded_model.to(device)\n",
    "loaded_model.load_state_dict(checkpoint['model_state_dict'])\n",
    "loaded_optimizer = optim.Adam(loaded_model.parameters(), lr=1e-4)\n",
    "loaded_optimizer.load_state_dict(checkpoint['optimizer_state_dict'])\n",
    "epoch = checkpoint['epoch']\n",
    "train_loss = checkpoint['loss']"
   ]
  },
  {
   "cell_type": "code",
   "execution_count": null,
   "metadata": {},
   "outputs": [],
   "source": [
    "loss_func = nn.CrossEntropyLoss()"
   ]
  },
  {
   "cell_type": "code",
   "execution_count": null,
   "metadata": {},
   "outputs": [],
   "source": [
    "loaded_model.eval()\n",
    "acc_test_epoch, precision_test_epoch, recall_test_epoch, f1_test_epoch  = [], [], [], []\n",
    "with torch.no_grad():\n",
    "    for inputs, labels in tqdm(test_loader, desc=f'Testing'):\n",
    "        inputs, labels = inputs.to(device), labels.to(device)\n",
    "        outputs = nn.Sigmoid()(loaded_model(inputs))     \n",
    "        val_loss = loss_func(outputs, labels)\n",
    "        _, predicted_test = torch.max(outputs, 1)\n",
    "\n",
    "        acc_batch_test, precision_batch_test, recall_batch_test, f1_batch_test = get_needed_metrics(labels.cpu().detach().tolist(), predicted_test.cpu().detach().tolist())\n",
    "        \n",
    "        acc_test_epoch.append(acc_batch_test)\n",
    "        precision_test_epoch.append(precision_batch_test)\n",
    "        recall_test_epoch.append(recall_batch_test)\n",
    "        f1_test_epoch.append(f1_batch_test)"
   ]
  },
  {
   "cell_type": "code",
   "execution_count": null,
   "metadata": {},
   "outputs": [],
   "source": [
    "torch.tensor(acc_test_epoch).mean(), torch.tensor(precision_test_epoch).mean(), torch.tensor(recall_test_epoch).mean(), torch.tensor(f1_test_epoch).mean()"
   ]
  },
  {
   "cell_type": "code",
   "execution_count": null,
   "metadata": {},
   "outputs": [],
   "source": []
  },
  {
   "cell_type": "code",
   "execution_count": null,
   "metadata": {},
   "outputs": [],
   "source": []
  },
  {
   "cell_type": "code",
   "execution_count": null,
   "metadata": {},
   "outputs": [],
   "source": []
  },
  {
   "cell_type": "code",
   "execution_count": null,
   "metadata": {},
   "outputs": [],
   "source": []
  },
  {
   "cell_type": "code",
   "execution_count": null,
   "metadata": {},
   "outputs": [],
   "source": [
    "import os\n",
    "import torchvision\n",
    "from torchvision.transforms import transforms"
   ]
  },
  {
   "cell_type": "code",
   "execution_count": null,
   "metadata": {},
   "outputs": [],
   "source": [
    "transforms = transforms.Compose([\n",
    "            transforms.RandomHorizontalFlip(),\n",
    "            transforms.ToTensor(), # convert 0-255 to 0-1 and from np to tensors\n",
    "            transforms.Normalize(mean=[0.5, 0.5, 0.5], std=[0.5, 0.5, 0.5]),\n",
    "            transforms.Resize((256,256))\n",
    "        ])\n",
    "\n",
    "\n",
    "class ImageFolderWithPaths(torchvision.datasets.ImageFolder):\n",
    "    def __getitem__(self, index):\n",
    "        img, label = super(ImageFolderWithPaths, self).__getitem__(index)\n",
    "        path = self.imgs[index][0]\n",
    "        return (img, label, path)    "
   ]
  },
  {
   "cell_type": "code",
   "execution_count": null,
   "metadata": {},
   "outputs": [],
   "source": [
    "root_dir = \"/mnt/Enterprise2/shirshak/GLAUCOMA_DATASET_EYEPACS_AIROGS_ZENODO/preprocessed_separated_train_test_val/\""
   ]
  },
  {
   "cell_type": "code",
   "execution_count": null,
   "metadata": {},
   "outputs": [],
   "source": [
    "data_train = ImageFolderWithPaths(root=os.path.join(root_dir, \"train\"), transform=transforms)\n",
    "data_val = ImageFolderWithPaths(root=os.path.join(root_dir, \"val\"), transform=transforms)\n",
    "data_test = ImageFolderWithPaths(root=os.path.join(root_dir, \"test\"), transform=transforms)\n",
    "\n",
    "#TODO CHANGE THIS WHEN DOING FULL PIPELINE\n",
    "data_train = data_train[:20]\n",
    "data_val = data_val[:20]\n",
    "data_test = data_test[:20]"
   ]
  },
  {
   "cell_type": "code",
   "execution_count": null,
   "metadata": {},
   "outputs": [],
   "source": [
    "data_train[0]"
   ]
  },
  {
   "cell_type": "code",
   "execution_count": null,
   "metadata": {},
   "outputs": [],
   "source": []
  }
 ],
 "metadata": {
  "kernelspec": {
   "display_name": "BPEye_Project_2024",
   "language": "python",
   "name": "python3"
  },
  "language_info": {
   "codemirror_mode": {
    "name": "ipython",
    "version": 3
   },
   "file_extension": ".py",
   "mimetype": "text/x-python",
   "name": "python",
   "nbconvert_exporter": "python",
   "pygments_lexer": "ipython3",
   "version": "3.9.20"
  }
 },
 "nbformat": 4,
 "nbformat_minor": 2
}
