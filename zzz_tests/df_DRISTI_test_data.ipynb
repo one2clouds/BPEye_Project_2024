{
 "cells": [
  {
   "cell_type": "code",
   "execution_count": 4,
   "metadata": {},
   "outputs": [],
   "source": [
    "import torch.nn as nn \n",
    "import torch.optim as optim \n",
    "import numpy as np \n",
    "import torch \n",
    "from tqdm import tqdm \n",
    "import torchvision\n",
    "from torchvision.transforms import transforms\n",
    "from torch.utils.data import Dataset, DataLoader, random_split\n",
    "import pathlib\n",
    "import matplotlib.pyplot as plt\n",
    "from glob import glob \n",
    "import pandas as pd \n",
    "import os\n",
    "from sklearn.metrics import accuracy_score, f1_score, precision_score, recall_score, confusion_matrix, ConfusionMatrixDisplay\n",
    "\n",
    "import argparse\n",
    "from PIL import Image\n",
    "from torchvision.models import EfficientNet_B0_Weights"
   ]
  },
  {
   "cell_type": "code",
   "execution_count": 2,
   "metadata": {},
   "outputs": [
    {
     "name": "stderr",
     "output_type": "stream",
     "text": [
      "100%|██████████| 101/101 [00:40<00:00,  2.47it/s]"
     ]
    },
    {
     "name": "stdout",
     "output_type": "stream",
     "text": [
      "            Image Name  height  width label train_val_test  \\\n",
      "0    drishtiGS_007.png    2048   2048   NRG           test   \n",
      "1    drishtiGS_008.png    2048   2048   NRG           test   \n",
      "2    drishtiGS_009.png    2047   2047   NRG           test   \n",
      "3    drishtiGS_013.png    2407   2407   NRG           test   \n",
      "4    drishtiGS_017.png    2048   2048   NRG           test   \n",
      "..                 ...     ...    ...   ...            ...   \n",
      "96   drishtiGS_083.png    2048   2048    RG           test   \n",
      "97   drishtiGS_084.png    2047   2047    RG           test   \n",
      "98   drishtiGS_086.png    2048   2048    RG           test   \n",
      "99   drishtiGS_087.png    2047   2047    RG           test   \n",
      "100  drishtiGS_088.png    2046   2046    RG           test   \n",
      "\n",
      "     Mean Intensity Value                         Mean Intensity Value R,G,B  \n",
      "0               58.485668  [103.0355453491211, 56.30249786376953, 16.1189...  \n",
      "1               54.452911  [92.03231811523438, 50.24470520019531, 21.0816...  \n",
      "2               33.015171  [55.279598236083984, 30.185550689697266, 13.58...  \n",
      "3               14.747014  [29.153667449951172, 9.26457691192627, 5.82280...  \n",
      "4               35.922421  [75.28187561035156, 27.639936447143555, 4.8454...  \n",
      "..                    ...                                                ...  \n",
      "96              40.033749  [76.18910217285156, 36.8641357421875, 7.048013...  \n",
      "97              48.213520  [86.81922149658203, 44.823036193847656, 12.998...  \n",
      "98              41.082035  [87.30914306640625, 29.419355392456055, 6.5176...  \n",
      "99              41.648693  [73.94937896728516, 34.63349151611328, 16.3632...  \n",
      "100             36.755337  [68.76118469238281, 33.75872039794922, 7.74609...  \n",
      "\n",
      "[101 rows x 7 columns]\n"
     ]
    },
    {
     "name": "stderr",
     "output_type": "stream",
     "text": [
      "\n"
     ]
    }
   ],
   "source": [
    "images = sorted(glob('/mnt/Enterprise2/shirshak/Glaucoma_Dataset_Drishti-GS/Drishti-GS1_preprocessed_cropped_separated_train_test_val/test/*/*.png'))\n",
    "df = pd.DataFrame(columns=[\"Image Name\", \"height\", \"width\", \"label\", \"train_val_test\", \"Mean Intensity Value\", \"Mean Intensity Value R,G,B\"])\n",
    "\n",
    "for index, image in enumerate(tqdm(images)):\n",
    "    img_name = image.split(\"/\")[-1]\n",
    "    height = torchvision.io.read_image(image).shape[1]\n",
    "    width = torchvision.io.read_image(image).shape[2]\n",
    "    train_val_test = image.split(\"/\")[-3]\n",
    "    label = image.split(\"/\")[-2]\n",
    "    mean_intensity = torchvision.io.read_image(image).float().mean()\n",
    "    mean_intensity_per_channel = torchvision.io.read_image(image).float().mean(dim=[1, 2])\n",
    "    df.loc[index] = {\n",
    "        \"Image Name\": img_name,\n",
    "        \"height\": height,\n",
    "        \"width\": width, \n",
    "        \"label\": label, \n",
    "        \"train_val_test\": train_val_test,\n",
    "        \"Mean Intensity Value\": mean_intensity.item(),\n",
    "        \"Mean Intensity Value R,G,B\": mean_intensity_per_channel.tolist()\n",
    "        }\n",
    "print(df)\n",
    "# df.to_csv(\"/home/shirshak/BPEye_Project_2024/zzz_tests/df_DRISTI_H_W_Mean-Intensity_labels.csv\", index=False)\n"
   ]
  },
  {
   "cell_type": "code",
   "execution_count": 2,
   "metadata": {},
   "outputs": [],
   "source": [
    "df = pd.read_csv(\"/home/shirshak/BPEye_Project_2024/zzz_tests/df_DRISTI_H_W_Mean-Intensity_labels.csv\")"
   ]
  },
  {
   "cell_type": "code",
   "execution_count": 1,
   "metadata": {},
   "outputs": [
    {
     "ename": "NameError",
     "evalue": "name 'df' is not defined",
     "output_type": "error",
     "traceback": [
      "\u001b[0;31m---------------------------------------------------------------------------\u001b[0m",
      "\u001b[0;31mNameError\u001b[0m                                 Traceback (most recent call last)",
      "Cell \u001b[0;32mIn[1], line 1\u001b[0m\n\u001b[0;32m----> 1\u001b[0m \u001b[43mdf\u001b[49m\u001b[38;5;241m.\u001b[39mheight\u001b[38;5;241m.\u001b[39mmin(), df\u001b[38;5;241m.\u001b[39mheight\u001b[38;5;241m.\u001b[39mmax()\n",
      "\u001b[0;31mNameError\u001b[0m: name 'df' is not defined"
     ]
    }
   ],
   "source": [
    "df.height.min(), df.height.max()"
   ]
  },
  {
   "cell_type": "code",
   "execution_count": 5,
   "metadata": {},
   "outputs": [
    {
     "data": {
      "text/plain": [
       "array([2048, 2047, 2407, 2049, 2046, 2051, 2044, 2133, 2050, 2045, 2427,\n",
       "       2395, 2226, 2443, 2137, 2467])"
      ]
     },
     "execution_count": 5,
     "metadata": {},
     "output_type": "execute_result"
    }
   ],
   "source": [
    "df.height.unique()"
   ]
  },
  {
   "cell_type": "code",
   "execution_count": null,
   "metadata": {},
   "outputs": [],
   "source": [
    "2047, 2048, 2049, 2046,2051, 2044, 2050, 2045"
   ]
  },
  {
   "cell_type": "code",
   "execution_count": null,
   "metadata": {},
   "outputs": [],
   "source": []
  },
  {
   "cell_type": "code",
   "execution_count": null,
   "metadata": {},
   "outputs": [],
   "source": []
  },
  {
   "cell_type": "code",
   "execution_count": 5,
   "metadata": {},
   "outputs": [
    {
     "data": {
      "text/plain": [
       "(array([0.        , 0.        , 0.        , 0.00471698, 0.00471698,\n",
       "        0.00943396, 0.00943396, 0.01415094, 0.01415094, 0.01886792,\n",
       "        0.01886792, 0.02358491, 0.02358491, 0.02830189, 0.02830189,\n",
       "        0.03773585, 0.03773585, 0.04245283, 0.04245283, 0.06132075,\n",
       "        0.06132075, 0.06603774, 0.06603774, 0.08490566, 0.08490566,\n",
       "        0.08962264, 0.08962264, 0.09433962, 0.09433962, 0.0990566 ,\n",
       "        0.0990566 , 0.11792453, 0.11792453, 0.14150943, 0.14150943,\n",
       "        1.        ]),\n",
       " array([0.        , 0.00280112, 0.71708683, 0.71708683, 0.87955182,\n",
       "        0.87955182, 0.93557423, 0.93557423, 0.93837535, 0.93837535,\n",
       "        0.94677871, 0.94677871, 0.94957983, 0.94957983, 0.95518207,\n",
       "        0.95518207, 0.95798319, 0.95798319, 0.96638655, 0.96638655,\n",
       "        0.9719888 , 0.9719888 , 0.97478992, 0.97478992, 0.97759104,\n",
       "        0.97759104, 0.9859944 , 0.9859944 , 0.99159664, 0.99159664,\n",
       "        0.99439776, 0.99439776, 0.99719888, 0.99719888, 1.        ,\n",
       "        1.        ]),\n",
       " array([           inf, 9.99995621e-01, 9.70163355e-01, 9.70030901e-01,\n",
       "        9.00053098e-01, 8.99534067e-01, 8.43269494e-01, 8.36526036e-01,\n",
       "        8.34214247e-01, 8.32098376e-01, 8.06868687e-01, 7.85863179e-01,\n",
       "        7.57014305e-01, 7.55518243e-01, 7.26365136e-01, 7.17303198e-01,\n",
       "        7.00157710e-01, 6.79886687e-01, 6.47293221e-01, 5.89372313e-01,\n",
       "        5.29660279e-01, 5.17823916e-01, 5.08480432e-01, 4.62992907e-01,\n",
       "        4.39876063e-01, 4.30565094e-01, 3.55538926e-01, 3.52048278e-01,\n",
       "        3.06114788e-01, 2.86649178e-01, 2.78831266e-01, 2.18459484e-01,\n",
       "        2.15286717e-01, 2.03417662e-01, 1.93290895e-01, 2.00106480e-48]))"
      ]
     },
     "execution_count": 5,
     "metadata": {},
     "output_type": "execute_result"
    }
   ],
   "source": [
    "from sklearn.datasets import load_breast_cancer\n",
    "from sklearn.linear_model import LogisticRegression\n",
    "from sklearn.metrics import roc_auc_score, roc_curve\n",
    "X, y = load_breast_cancer(return_X_y=True)\n",
    "clf = LogisticRegression(solver=\"liblinear\", random_state=0).fit(X, y)\n",
    "roc_curve(y, clf.predict_proba(X)[:, 1])\n",
    "# roc_auc_score(y, clf.decision_function(X))"
   ]
  },
  {
   "cell_type": "code",
   "execution_count": null,
   "metadata": {},
   "outputs": [],
   "source": []
  },
  {
   "cell_type": "code",
   "execution_count": null,
   "metadata": {},
   "outputs": [],
   "source": []
  },
  {
   "cell_type": "code",
   "execution_count": null,
   "metadata": {},
   "outputs": [],
   "source": []
  },
  {
   "cell_type": "code",
   "execution_count": null,
   "metadata": {},
   "outputs": [],
   "source": []
  }
 ],
 "metadata": {
  "kernelspec": {
   "display_name": "BPEye_Project_2024",
   "language": "python",
   "name": "python3"
  },
  "language_info": {
   "codemirror_mode": {
    "name": "ipython",
    "version": 3
   },
   "file_extension": ".py",
   "mimetype": "text/x-python",
   "name": "python",
   "nbconvert_exporter": "python",
   "pygments_lexer": "ipython3",
   "version": "3.9.21"
  }
 },
 "nbformat": 4,
 "nbformat_minor": 2
}
